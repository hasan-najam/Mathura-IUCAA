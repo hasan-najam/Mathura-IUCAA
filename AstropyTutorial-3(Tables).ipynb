{
 "cells": [
  {
   "cell_type": "markdown",
   "metadata": {},
   "source": [
    "# Tutorial  IUCAA workshop, Mathura\n",
    "## Astropy Tutorial-3 (Tables) \n",
    "\n",
    "Adapted from tutorial by Axel Donath"
   ]
  },
  {
   "cell_type": "code",
   "execution_count": 23,
   "metadata": {},
   "outputs": [],
   "source": [
    "%matplotlib inline  \n",
    "import matplotlib.pyplot as plt"
   ]
  },
  {
   "cell_type": "code",
   "execution_count": 1,
   "metadata": {},
   "outputs": [],
   "source": [
    "import numpy as np\n",
    "import astropy"
   ]
  },
  {
   "cell_type": "code",
   "execution_count": 11,
   "metadata": {},
   "outputs": [],
   "source": [
    "from astropy import units as u"
   ]
  },
  {
   "cell_type": "markdown",
   "metadata": {},
   "source": [
    "## 3. Tables\n",
    "\n",
    "Astropy provides the [Table](http://docs.astropy.org/en/stable/api/astropy.io.votable.tree.Table.html) class in order to handle data tables.\n",
    "\n",
    "### 3.1 Basics\n",
    "\n",
    "Table objects can be created as shown in the following"
   ]
  },
  {
   "cell_type": "code",
   "execution_count": 12,
   "metadata": {},
   "outputs": [],
   "source": [
    "from astropy.table import Table"
   ]
  },
  {
   "cell_type": "code",
   "execution_count": 13,
   "metadata": {},
   "outputs": [
    {
     "name": "stdout",
     "output_type": "stream",
     "text": [
      "<No columns>\n"
     ]
    }
   ],
   "source": [
    "table = Table()\n",
    "print(table)"
   ]
  },
  {
   "cell_type": "markdown",
   "metadata": {},
   "source": [
    "We add columns to the table like we would add entries to a dictionary"
   ]
  },
  {
   "cell_type": "code",
   "execution_count": 14,
   "metadata": {},
   "outputs": [],
   "source": [
    "table['Source_Name'] = ['Crab', 'Sag A*', 'Cas A', 'Vela Junior']\n",
    "table['GLON'] = [184.5575438, 0, 111.74169477, 266.25914205] * u.deg\n",
    "table['GLAT'] = [-5.78427369, 0, -2.13544151, -1.21985818] * u.deg\n",
    "table['Source_Class'] = ['pwn', 'unc', 'snr', 'snr']"
   ]
  },
  {
   "cell_type": "markdown",
   "metadata": {},
   "source": [
    "By executing the following cell, we get a nicely formatted version of the table printed in the notebook:"
   ]
  },
  {
   "cell_type": "code",
   "execution_count": 15,
   "metadata": {},
   "outputs": [
    {
     "data": {
      "text/html": [
       "<div><i>Table length=4</i>\n",
       "<table id=\"table140255482097744\" class=\"table-striped table-bordered table-condensed\">\n",
       "<thead><tr><th>Source_Name</th><th>GLON</th><th>GLAT</th><th>Source_Class</th></tr></thead>\n",
       "<thead><tr><th></th><th>deg</th><th>deg</th><th></th></tr></thead>\n",
       "<thead><tr><th>str11</th><th>float64</th><th>float64</th><th>str3</th></tr></thead>\n",
       "<tr><td>Crab</td><td>184.5575438</td><td>-5.78427369</td><td>pwn</td></tr>\n",
       "<tr><td>Sag A*</td><td>0.0</td><td>0.0</td><td>unc</td></tr>\n",
       "<tr><td>Cas A</td><td>111.74169477</td><td>-2.13544151</td><td>snr</td></tr>\n",
       "<tr><td>Vela Junior</td><td>266.25914205</td><td>-1.21985818</td><td>snr</td></tr>\n",
       "</table></div>"
      ],
      "text/plain": [
       "<Table length=4>\n",
       "Source_Name     GLON         GLAT    Source_Class\n",
       "                deg          deg                 \n",
       "   str11      float64      float64       str3    \n",
       "----------- ------------ ----------- ------------\n",
       "       Crab  184.5575438 -5.78427369          pwn\n",
       "     Sag A*          0.0         0.0          unc\n",
       "      Cas A 111.74169477 -2.13544151          snr\n",
       "Vela Junior 266.25914205 -1.21985818          snr"
      ]
     },
     "execution_count": 15,
     "metadata": {},
     "output_type": "execute_result"
    }
   ],
   "source": [
    "table"
   ]
  },
  {
   "cell_type": "markdown",
   "metadata": {},
   "source": [
    "### 3.2 Accessing rows and columns"
   ]
  },
  {
   "cell_type": "markdown",
   "metadata": {},
   "source": [
    "We have access to the defined columns. To check which ones are availbe you can use `Table.colnames`:"
   ]
  },
  {
   "cell_type": "code",
   "execution_count": 16,
   "metadata": {},
   "outputs": [
    {
     "data": {
      "text/plain": [
       "['Source_Name', 'GLON', 'GLAT', 'Source_Class']"
      ]
     },
     "execution_count": 16,
     "metadata": {},
     "output_type": "execute_result"
    }
   ],
   "source": [
    "table.colnames"
   ]
  },
  {
   "cell_type": "markdown",
   "metadata": {},
   "source": [
    "And access individual columns just by their name:"
   ]
  },
  {
   "cell_type": "code",
   "execution_count": 17,
   "metadata": {},
   "outputs": [
    {
     "data": {
      "text/html": [
       "&lt;Column name=&apos;GLON&apos; dtype=&apos;float64&apos; unit=&apos;deg&apos; length=4&gt;\n",
       "<table>\n",
       "<tr><td>184.5575438</td></tr>\n",
       "<tr><td>0.0</td></tr>\n",
       "<tr><td>111.74169477</td></tr>\n",
       "<tr><td>266.25914205</td></tr>\n",
       "</table>"
      ],
      "text/plain": [
       "<Column name='GLON' dtype='float64' unit='deg' length=4>\n",
       " 184.5575438\n",
       "         0.0\n",
       "111.74169477\n",
       "266.25914205"
      ]
     },
     "execution_count": 17,
     "metadata": {},
     "output_type": "execute_result"
    }
   ],
   "source": [
    "table['GLON']"
   ]
  },
  {
   "cell_type": "markdown",
   "metadata": {},
   "source": [
    "And also a subset of columns:"
   ]
  },
  {
   "cell_type": "code",
   "execution_count": 18,
   "metadata": {},
   "outputs": [
    {
     "data": {
      "text/html": [
       "<div><i>Table length=4</i>\n",
       "<table id=\"table140255482091728\" class=\"table-striped table-bordered table-condensed\">\n",
       "<thead><tr><th>Source_Name</th><th>GLON</th></tr></thead>\n",
       "<thead><tr><th></th><th>deg</th></tr></thead>\n",
       "<thead><tr><th>str11</th><th>float64</th></tr></thead>\n",
       "<tr><td>Crab</td><td>184.5575438</td></tr>\n",
       "<tr><td>Sag A*</td><td>0.0</td></tr>\n",
       "<tr><td>Cas A</td><td>111.74169477</td></tr>\n",
       "<tr><td>Vela Junior</td><td>266.25914205</td></tr>\n",
       "</table></div>"
      ],
      "text/plain": [
       "<Table length=4>\n",
       "Source_Name     GLON    \n",
       "                deg     \n",
       "   str11      float64   \n",
       "----------- ------------\n",
       "       Crab  184.5575438\n",
       "     Sag A*          0.0\n",
       "      Cas A 111.74169477\n",
       "Vela Junior 266.25914205"
      ]
     },
     "execution_count": 18,
     "metadata": {},
     "output_type": "execute_result"
    }
   ],
   "source": [
    "table[['Source_Name', 'GLON']]"
   ]
  },
  {
   "cell_type": "markdown",
   "metadata": {},
   "source": [
    "Often, it is handy to get the column data as [astropy.units.Quantity](http://docs.astropy.org/en/stable/api/astropy.units.Quantity.html#astropy.units.Quantity) using the `.quantity` property:"
   ]
  },
  {
   "cell_type": "code",
   "execution_count": 19,
   "metadata": {},
   "outputs": [
    {
     "data": {
      "text/latex": [
       "$[184.55754,~0,~111.74169,~266.25914] \\; \\mathrm{{}^{\\circ}}$"
      ],
      "text/plain": [
       "<Quantity [184.5575438 ,   0.        , 111.74169477, 266.25914205] deg>"
      ]
     },
     "execution_count": 19,
     "metadata": {},
     "output_type": "execute_result"
    }
   ],
   "source": [
    "table['GLON'].quantity"
   ]
  },
  {
   "cell_type": "markdown",
   "metadata": {},
   "source": [
    "Rows can be accessed using numpy indexing:"
   ]
  },
  {
   "cell_type": "code",
   "execution_count": 20,
   "metadata": {},
   "outputs": [
    {
     "data": {
      "text/html": [
       "<div><i>Table length=2</i>\n",
       "<table id=\"table140255482550160\" class=\"table-striped table-bordered table-condensed\">\n",
       "<thead><tr><th>Source_Name</th><th>GLON</th><th>GLAT</th><th>Source_Class</th></tr></thead>\n",
       "<thead><tr><th></th><th>deg</th><th>deg</th><th></th></tr></thead>\n",
       "<thead><tr><th>str11</th><th>float64</th><th>float64</th><th>str3</th></tr></thead>\n",
       "<tr><td>Crab</td><td>184.5575438</td><td>-5.78427369</td><td>pwn</td></tr>\n",
       "<tr><td>Sag A*</td><td>0.0</td><td>0.0</td><td>unc</td></tr>\n",
       "</table></div>"
      ],
      "text/plain": [
       "<Table length=2>\n",
       "Source_Name     GLON        GLAT    Source_Class\n",
       "                deg         deg                 \n",
       "   str11      float64     float64       str3    \n",
       "----------- ----------- ----------- ------------\n",
       "       Crab 184.5575438 -5.78427369          pwn\n",
       "     Sag A*         0.0         0.0          unc"
      ]
     },
     "execution_count": 20,
     "metadata": {},
     "output_type": "execute_result"
    }
   ],
   "source": [
    "table[0:2]"
   ]
  },
  {
   "cell_type": "markdown",
   "metadata": {},
   "source": [
    "Or by using a boolean numpy array for indexing:"
   ]
  },
  {
   "cell_type": "code",
   "execution_count": 21,
   "metadata": {},
   "outputs": [
    {
     "data": {
      "text/html": [
       "<div><i>Table length=1</i>\n",
       "<table id=\"table140255485420496\" class=\"table-striped table-bordered table-condensed\">\n",
       "<thead><tr><th>Source_Name</th><th>GLON</th><th>GLAT</th><th>Source_Class</th></tr></thead>\n",
       "<thead><tr><th></th><th>deg</th><th>deg</th><th></th></tr></thead>\n",
       "<thead><tr><th>str11</th><th>float64</th><th>float64</th><th>str3</th></tr></thead>\n",
       "<tr><td>Crab</td><td>184.5575438</td><td>-5.78427369</td><td>pwn</td></tr>\n",
       "</table></div>"
      ],
      "text/plain": [
       "<Table length=1>\n",
       "Source_Name     GLON        GLAT    Source_Class\n",
       "                deg         deg                 \n",
       "   str11      float64     float64       str3    \n",
       "----------- ----------- ----------- ------------\n",
       "       Crab 184.5575438 -5.78427369          pwn"
      ]
     },
     "execution_count": 21,
     "metadata": {},
     "output_type": "execute_result"
    }
   ],
   "source": [
    "selection = table['Source_Name'] == 'Crab'\n",
    "table[selection]"
   ]
  },
  {
   "cell_type": "markdown",
   "metadata": {},
   "source": [
    "There is also a more sophisticated indexing scheme, which is explained [here](http://docs.astropy.org/en/stable/table/indexing.html), but not covered in this tutorial."
   ]
  },
  {
   "cell_type": "markdown",
   "metadata": {},
   "source": [
    "### 3.3 Reading / Writing tables to disk\n",
    "Astropy tables can be serialized into many formats. For an overview see [here](http://docs.astropy.org/en/latest/io/unified.html#built-in-table-readers-writers). To write the table in FITS format we can use:"
   ]
  },
  {
   "cell_type": "code",
   "execution_count": 22,
   "metadata": {},
   "outputs": [],
   "source": [
    "table.write('example.fits', overwrite=True, format='fits')"
   ]
  },
  {
   "cell_type": "code",
   "execution_count": 23,
   "metadata": {},
   "outputs": [],
   "source": [
    "table.write('example.ecsv', overwrite=True, format='ascii.ecsv')"
   ]
  },
  {
   "cell_type": "code",
   "execution_count": 24,
   "metadata": {},
   "outputs": [
    {
     "data": {
      "text/html": [
       "<div><i>Table length=4</i>\n",
       "<table id=\"table140255439454416\" class=\"table-striped table-bordered table-condensed\">\n",
       "<thead><tr><th>Source_Name</th><th>GLON</th><th>GLAT</th><th>Source_Class</th></tr></thead>\n",
       "<thead><tr><th></th><th>deg</th><th>deg</th><th></th></tr></thead>\n",
       "<thead><tr><th>bytes11</th><th>float64</th><th>float64</th><th>bytes3</th></tr></thead>\n",
       "<tr><td>Crab</td><td>184.5575438</td><td>-5.78427369</td><td>pwn</td></tr>\n",
       "<tr><td>Sag A*</td><td>0.0</td><td>0.0</td><td>unc</td></tr>\n",
       "<tr><td>Cas A</td><td>111.74169477</td><td>-2.13544151</td><td>snr</td></tr>\n",
       "<tr><td>Vela Junior</td><td>266.25914205</td><td>-1.21985818</td><td>snr</td></tr>\n",
       "</table></div>"
      ],
      "text/plain": [
       "<Table length=4>\n",
       "Source_Name     GLON         GLAT    Source_Class\n",
       "                deg          deg                 \n",
       "  bytes11     float64      float64      bytes3   \n",
       "----------- ------------ ----------- ------------\n",
       "       Crab  184.5575438 -5.78427369          pwn\n",
       "     Sag A*          0.0         0.0          unc\n",
       "      Cas A 111.74169477 -2.13544151          snr\n",
       "Vela Junior 266.25914205 -1.21985818          snr"
      ]
     },
     "execution_count": 24,
     "metadata": {},
     "output_type": "execute_result"
    }
   ],
   "source": [
    "Table.read('example.fits')"
   ]
  },
  {
   "cell_type": "markdown",
   "metadata": {},
   "source": [
    "This works for mutiple keys as well:"
   ]
  },
  {
   "cell_type": "markdown",
   "metadata": {},
   "source": [
    "Astropy's table object also supports the possiblity to group the rows by a given key column. The groups will be defined by the unique values contained in the column defined as key:"
   ]
  },
  {
   "cell_type": "code",
   "execution_count": 28,
   "metadata": {},
   "outputs": [
    {
     "name": "stdout",
     "output_type": "stream",
     "text": [
      "Source_Name     GLON        GLAT    Source_Class\n",
      "                deg         deg                 \n",
      "----------- ----------- ----------- ------------\n",
      "       Crab 184.5575438 -5.78427369          pwn \n",
      "\n",
      "Source_Name     GLON         GLAT    Source_Class\n",
      "                deg          deg                 \n",
      "----------- ------------ ----------- ------------\n",
      "      Cas A 111.74169477 -2.13544151          snr\n",
      "Vela Junior 266.25914205 -1.21985818          snr \n",
      "\n",
      "Source_Name GLON GLAT Source_Class\n",
      "            deg  deg              \n",
      "----------- ---- ---- ------------\n",
      "     Sag A*  0.0  0.0          unc \n",
      "\n"
     ]
    }
   ],
   "source": [
    "table_grouped = table.group_by(\"Source_Class\")\n",
    "\n",
    "for group in table_grouped.groups:\n",
    "    print(group, \"\\n\")"
   ]
  },
  {
   "cell_type": "markdown",
   "metadata": {},
   "source": [
    "Where each `group` is again a `Table` object:"
   ]
  },
  {
   "cell_type": "code",
   "execution_count": 29,
   "metadata": {},
   "outputs": [
    {
     "data": {
      "text/plain": [
       "astropy.table.table.Table"
      ]
     },
     "execution_count": 29,
     "metadata": {},
     "output_type": "execute_result"
    }
   ],
   "source": [
    "type(group)"
   ]
  },
  {
   "cell_type": "markdown",
   "metadata": {},
   "source": [
    "### 3.5. Miscellaneous\n",
    "\n",
    "These are a few other useful operations when working with Astropy tables.\n",
    "\n",
    "Sort by key:"
   ]
  },
  {
   "cell_type": "code",
   "execution_count": 30,
   "metadata": {},
   "outputs": [],
   "source": [
    "table.sort('GLON')"
   ]
  },
  {
   "cell_type": "code",
   "execution_count": 31,
   "metadata": {},
   "outputs": [
    {
     "data": {
      "text/html": [
       "<div><i>Table length=4</i>\n",
       "<table id=\"table140255482097744\" class=\"table-striped table-bordered table-condensed\">\n",
       "<thead><tr><th>Source_Name</th><th>GLON</th><th>GLAT</th><th>Source_Class</th></tr></thead>\n",
       "<thead><tr><th></th><th>deg</th><th>deg</th><th></th></tr></thead>\n",
       "<thead><tr><th>str11</th><th>float64</th><th>float64</th><th>str3</th></tr></thead>\n",
       "<tr><td>Sag A*</td><td>0.0</td><td>0.0</td><td>unc</td></tr>\n",
       "<tr><td>Cas A</td><td>111.74169477</td><td>-2.13544151</td><td>snr</td></tr>\n",
       "<tr><td>Crab</td><td>184.5575438</td><td>-5.78427369</td><td>pwn</td></tr>\n",
       "<tr><td>Vela Junior</td><td>266.25914205</td><td>-1.21985818</td><td>snr</td></tr>\n",
       "</table></div>"
      ],
      "text/plain": [
       "<Table length=4>\n",
       "Source_Name     GLON         GLAT    Source_Class\n",
       "                deg          deg                 \n",
       "   str11      float64      float64       str3    \n",
       "----------- ------------ ----------- ------------\n",
       "     Sag A*          0.0         0.0          unc\n",
       "      Cas A 111.74169477 -2.13544151          snr\n",
       "       Crab  184.5575438 -5.78427369          pwn\n",
       "Vela Junior 266.25914205 -1.21985818          snr"
      ]
     },
     "execution_count": 31,
     "metadata": {},
     "output_type": "execute_result"
    }
   ],
   "source": [
    "table"
   ]
  },
  {
   "cell_type": "markdown",
   "metadata": {},
   "source": [
    "Note that `.sort()` is an in place operation on the table, i.e. changes the actual table.\n",
    "\n",
    "To remove a specific row by index:"
   ]
  },
  {
   "cell_type": "code",
   "execution_count": 32,
   "metadata": {},
   "outputs": [],
   "source": [
    "table.remove_row(0)"
   ]
  },
  {
   "cell_type": "markdown",
   "metadata": {},
   "source": [
    "Astropy tables also support row-wise iteration in Python loops:"
   ]
  },
  {
   "cell_type": "code",
   "execution_count": 33,
   "metadata": {},
   "outputs": [
    {
     "name": "stdout",
     "output_type": "stream",
     "text": [
      "Cas A\n",
      "Crab\n",
      "Vela Junior\n"
     ]
    }
   ],
   "source": [
    "for row in table:\n",
    "    print(row['Source_Name'])"
   ]
  },
  {
   "cell_type": "markdown",
   "metadata": {},
   "source": [
    "Another useful feature for quickly inspecting the data contained in the table is the `.show_in_browser()` method:"
   ]
  },
  {
   "cell_type": "code",
   "execution_count": 34,
   "metadata": {},
   "outputs": [],
   "source": [
    "table.show_in_browser(jsviewer=True)"
   ]
  }
 ],
 "metadata": {
  "kernelspec": {
   "display_name": "Python 3",
   "language": "python",
   "name": "python3"
  },
  "language_info": {
   "codemirror_mode": {
    "name": "ipython",
    "version": 3
   },
   "file_extension": ".py",
   "mimetype": "text/x-python",
   "name": "python",
   "nbconvert_exporter": "python",
   "pygments_lexer": "ipython3",
   "version": "3.7.6"
  }
 },
 "nbformat": 4,
 "nbformat_minor": 2
}
